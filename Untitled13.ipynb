{
  "nbformat": 4,
  "nbformat_minor": 0,
  "metadata": {
    "colab": {
      "name": "Untitled13.ipynb",
      "provenance": [],
      "authorship_tag": "ABX9TyOl/c04vgpSCmdLhfyPvNzc",
      "include_colab_link": true
    },
    "kernelspec": {
      "name": "python3",
      "display_name": "Python 3"
    },
    "language_info": {
      "name": "python"
    }
  },
  "cells": [
    {
      "cell_type": "markdown",
      "metadata": {
        "id": "view-in-github",
        "colab_type": "text"
      },
      "source": [
        "<a href=\"https://colab.research.google.com/github/Mikayilozden/Mikayilozden/blob/main/Untitled13.ipynb\" target=\"_parent\"><img src=\"https://colab.research.google.com/assets/colab-badge.svg\" alt=\"Open In Colab\"/></a>"
      ]
    },
    {
      "cell_type": "code",
      "source": [
        "my_data = 'I am crying'\n",
        "print(type(my_data))"
      ],
      "metadata": {
        "colab": {
          "base_uri": "https://localhost:8080/"
        },
        "id": "oERTcpMDI9Sq",
        "outputId": "0f512809-3062-470b-f65d-ddb0c1052a78"
      },
      "execution_count": null,
      "outputs": [
        {
          "output_type": "stream",
          "name": "stdout",
          "text": [
            "<class 'str'>\n"
          ]
        }
      ]
    },
    {
      "cell_type": "code",
      "source": [
        "pi = 3.14\n",
        "con_pi = str(pi)\n",
        "print(con_pi)\n",
        "print(type(con_pi))"
      ],
      "metadata": {
        "colab": {
          "base_uri": "https://localhost:8080/"
        },
        "id": "1o-Trt9SK-xI",
        "outputId": "9667f65e-d3b5-499f-f418-ab08601ca049"
      },
      "execution_count": null,
      "outputs": [
        {
          "output_type": "stream",
          "name": "stdout",
          "text": [
            "3.14\n",
            "<class 'str'>\n"
          ]
        }
      ]
    },
    {
      "cell_type": "code",
      "source": [
        "age = 27\n",
        "mikayil = str(age)\n",
        "print(mikayil)\n",
        "print(type(mikayil))"
      ],
      "metadata": {
        "colab": {
          "base_uri": "https://localhost:8080/"
        },
        "id": "dhSQL6yCI9VP",
        "outputId": "640ea468-e479-4c2a-9021-ad1bc7a836bf"
      },
      "execution_count": null,
      "outputs": [
        {
          "output_type": "stream",
          "name": "stdout",
          "text": [
            "27\n",
            "<class 'str'>\n"
          ]
        }
      ]
    },
    {
      "cell_type": "code",
      "source": [
        " mkl = int(\"27\")\n",
        " type(mkl)"
      ],
      "metadata": {
        "colab": {
          "base_uri": "https://localhost:8080/"
        },
        "id": "r0dok5sWI9X0",
        "outputId": "a5edebb8-8f09-4c33-c859-2750247c90fa"
      },
      "execution_count": null,
      "outputs": [
        {
          "output_type": "execute_result",
          "data": {
            "text/plain": [
              "int"
            ]
          },
          "metadata": {},
          "execution_count": 10
        }
      ]
    },
    {
      "cell_type": "code",
      "source": [
        "kml = (\"otuziki\")\n",
        "type(kml)"
      ],
      "metadata": {
        "colab": {
          "base_uri": "https://localhost:8080/"
        },
        "id": "2Fz7zeszI9ag",
        "outputId": "bfcfce16-4caa-450f-fdea-9d3b9886a0a5"
      },
      "execution_count": null,
      "outputs": [
        {
          "output_type": "execute_result",
          "data": {
            "text/plain": [
              "str"
            ]
          },
          "metadata": {},
          "execution_count": 13
        }
      ]
    },
    {
      "cell_type": "code",
      "source": [
        "float(\"11\")"
      ],
      "metadata": {
        "colab": {
          "base_uri": "https://localhost:8080/"
        },
        "id": "7rCXdrw3I9d-",
        "outputId": "4031896c-36d5-42e4-a53e-08ae4da4d71a"
      },
      "execution_count": null,
      "outputs": [
        {
          "output_type": "execute_result",
          "data": {
            "text/plain": [
              "11.0"
            ]
          },
          "metadata": {},
          "execution_count": 32
        }
      ]
    },
    {
      "cell_type": "code",
      "source": [
        "x = 39\n",
        "v = \"11\"\n",
        "y = \"2.5\"\n",
        "z = \"I am at\"\n",
        "print(x-int(v))\n",
        "print(x-float(y))\n",
        "print(z, str(x))"
      ],
      "metadata": {
        "colab": {
          "base_uri": "https://localhost:8080/"
        },
        "id": "wE8vI748vrkg",
        "outputId": "6aec9696-ed48-47a3-be18-d040e17fc1b3"
      },
      "execution_count": null,
      "outputs": [
        {
          "output_type": "stream",
          "name": "stdout",
          "text": [
            "28\n",
            "36.5\n",
            "I am at 39\n"
          ]
        }
      ]
    },
    {
      "cell_type": "code",
      "source": [
        "number_int = 123\n",
        "number_flt = 1.23\n",
        "number_new = number_int + number_flt\n",
        "print(\"datatype of number_int:\", type(number_int))\n",
        "print(\"datatype of number_flt:\", type(number_flt))\n",
        "print()\n",
        "print(\"Value of number_new:\", number_new)\n",
        "print(\"datatype of number_new:\", type(number_new))"
      ],
      "metadata": {
        "colab": {
          "base_uri": "https://localhost:8080/"
        },
        "id": "qH2jNC4Pvrno",
        "outputId": "73fd3bc4-366c-4f10-c471-503a1aa4b109"
      },
      "execution_count": null,
      "outputs": [
        {
          "output_type": "stream",
          "name": "stdout",
          "text": [
            "datatype of number_int: <class 'int'>\n",
            "datatype of number_flt: <class 'float'>\n",
            "\n",
            "Value of number_new: 124.23\n",
            "datatype of number_new: <class 'float'>\n"
          ]
        }
      ]
    },
    {
      "cell_type": "code",
      "source": [
        "number_int = 123\n",
        "number_str = \"456\"\n",
        "print(\"Data type of number_int:\", type(number_int))\n",
        "print(\"Data type of number_str before Type Casting:\", type(number_str))\n",
        "print()\n",
        "number_str = int(number_str)\n",
        "print(\"Data type of number_str after Type Casting:\", type(number_str))\n",
        "number_sum = number_int + number_str\n",
        "print(\"Sum of number_int and number_str:\", number_sum)\n",
        "print(\"Data type of the sum:\", type(number_sum))\n"
      ],
      "metadata": {
        "colab": {
          "base_uri": "https://localhost:8080/"
        },
        "id": "YaUmUm06vrqm",
        "outputId": "d4e29045-5daf-4c5f-eab1-74b4b294d727"
      },
      "execution_count": null,
      "outputs": [
        {
          "output_type": "stream",
          "name": "stdout",
          "text": [
            "Data type of number_int: <class 'int'>\n",
            "Data type of number_str before Type Casting: <class 'str'>\n",
            "\n",
            "Data type of number_str after Type Casting: <class 'int'>\n",
            "Sum of number_int and number_str: 579\n",
            "Data type of the sum: <class 'int'>\n"
          ]
        }
      ]
    },
    {
      "cell_type": "code",
      "source": [
        "r = 5\n",
        "pi = 3.14\n",
        "area = pi * r ** 2\n",
        "print(area)"
      ],
      "metadata": {
        "colab": {
          "base_uri": "https://localhost:8080/"
        },
        "id": "OiVyjAZUvrtu",
        "outputId": "7f89ed1a-28d9-4cfd-bbf4-71d60b9ac613"
      },
      "execution_count": null,
      "outputs": [
        {
          "output_type": "stream",
          "name": "stdout",
          "text": [
            "78.5\n"
          ]
        }
      ]
    },
    {
      "cell_type": "code",
      "source": [
        "print(11 % 2)\n",
        "print((4 * 5))"
      ],
      "metadata": {
        "id": "1O9a3FTrvrw2",
        "colab": {
          "base_uri": "https://localhost:8080/"
        },
        "outputId": "85c10927-7743-4fa5-ea55-93340112d4e9"
      },
      "execution_count": null,
      "outputs": [
        {
          "output_type": "stream",
          "name": "stdout",
          "text": [
            "1\n",
            "20\n"
          ]
        }
      ]
    },
    {
      "cell_type": "code",
      "source": [
        "a = 3\n",
        "b = 4\n",
        "c = (a ** 2 + b ** 2) ** 0.5\n",
        "print(c)"
      ],
      "metadata": {
        "colab": {
          "base_uri": "https://localhost:8080/"
        },
        "id": "7lBsJWfRW8cP",
        "outputId": "1ece3538-dbc9-4f02-a309-f7b47421495b"
      },
      "execution_count": null,
      "outputs": [
        {
          "output_type": "stream",
          "name": "stdout",
          "text": [
            "5.0\n"
          ]
        }
      ]
    },
    {
      "cell_type": "code",
      "source": [
        "text1 = \"seni çok seviyorum\"\n",
        "print(text1)"
      ],
      "metadata": {
        "colab": {
          "base_uri": "https://localhost:8080/"
        },
        "id": "uyWtLwSPW8fV",
        "outputId": "53995caa-c556-46af-9887-1eb550d5e961"
      },
      "execution_count": null,
      "outputs": [
        {
          "output_type": "stream",
          "name": "stdout",
          "text": [
            "seni çok seviyorum\n"
          ]
        }
      ]
    },
    {
      "cell_type": "code",
      "source": [
        "print(\"ali\", end=\" \")\n",
        "print(\"veli\", \"irem\")"
      ],
      "metadata": {
        "colab": {
          "base_uri": "https://localhost:8080/"
        },
        "id": "8KcWSkEJW8h3",
        "outputId": "fae4f091-0006-4403-ccf2-8bf8a26b8134"
      },
      "execution_count": null,
      "outputs": [
        {
          "output_type": "stream",
          "name": "stdout",
          "text": [
            "ali veli irem\n"
          ]
        }
      ]
    },
    {
      "cell_type": "code",
      "source": [
        "print(\"Ayla\\nın çantası\")"
      ],
      "metadata": {
        "colab": {
          "base_uri": "https://localhost:8080/"
        },
        "id": "WxCEY_gtW8kS",
        "outputId": "ee85c594-2957-445a-ec0a-d793a2b6adb6"
      },
      "execution_count": null,
      "outputs": [
        {
          "output_type": "stream",
          "name": "stdout",
          "text": [
            "Ayla\n",
            "ın çantası\n"
          ]
        }
      ]
    },
    {
      "cell_type": "code",
      "source": [
        "print('first', 'second',  'third', sep='\\t')"
      ],
      "metadata": {
        "colab": {
          "base_uri": "https://localhost:8080/"
        },
        "id": "uYueJOvxW8nu",
        "outputId": "c002035b-99bb-4af6-fba1-832a2d2bf154"
      },
      "execution_count": null,
      "outputs": [
        {
          "output_type": "stream",
          "name": "stdout",
          "text": [
            "first\tsecond\tthird\n"
          ]
        }
      ]
    },
    {
      "cell_type": "code",
      "source": [
        ""
      ],
      "metadata": {
        "id": "ym5oSwcdI9gr"
      },
      "execution_count": null,
      "outputs": []
    },
    {
      "cell_type": "code",
      "source": [
        ""
      ],
      "metadata": {
        "id": "uw9C9K9tI9j8"
      },
      "execution_count": null,
      "outputs": []
    },
    {
      "cell_type": "code",
      "source": [
        ""
      ],
      "metadata": {
        "id": "dPbxkSqRI9nX"
      },
      "execution_count": null,
      "outputs": []
    }
  ]
}